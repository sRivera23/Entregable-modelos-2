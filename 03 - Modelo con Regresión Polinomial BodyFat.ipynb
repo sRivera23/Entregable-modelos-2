{
  "nbformat": 4,
  "nbformat_minor": 0,
  "metadata": {
    "colab": {
      "provenance": []
    },
    "kernelspec": {
      "name": "python3",
      "display_name": "Python 3"
    },
    "language_info": {
      "name": "python"
    }
  },
  "cells": [
    {
      "cell_type": "markdown",
      "source": [
        "[![Open In Colab](https://colab.research.google.com/assets/colab-badge.svg)](https://colab.research.google.com/drive/1ENu0dz0Qc210_ZwQhRAafu7b1qNIzAXT?usp=sharing&authuser=1#scrollTo=LsCPkxmpHlKM)"
      ],
      "metadata": {
        "id": "LsCPkxmpHlKM"
      }
    },
    {
      "cell_type": "code",
      "source": [
        "!pip install openml"
      ],
      "metadata": {
        "colab": {
          "base_uri": "https://localhost:8080/"
        },
        "id": "MgI7LCxOlIZ0",
        "outputId": "ca539d48-25fe-413a-9b81-e2fa59a98ef5"
      },
      "execution_count": null,
      "outputs": [
        {
          "output_type": "stream",
          "name": "stdout",
          "text": [
            "Collecting openml\n",
            "  Downloading openml-0.14.2.tar.gz (144 kB)\n",
            "\u001b[2K     \u001b[90m━━━━━━━━━━━━━━━━━━━━━━━━━━━━━━━━━━━━━━━━\u001b[0m \u001b[32m144.5/144.5 kB\u001b[0m \u001b[31m2.4 MB/s\u001b[0m eta \u001b[36m0:00:00\u001b[0m\n",
            "\u001b[?25h  Installing build dependencies ... \u001b[?25l\u001b[?25hdone\n",
            "  Getting requirements to build wheel ... \u001b[?25l\u001b[?25hdone\n",
            "  Installing backend dependencies ... \u001b[?25l\u001b[?25hdone\n",
            "  Preparing metadata (pyproject.toml) ... \u001b[?25l\u001b[?25hdone\n",
            "Collecting liac-arff>=2.4.0 (from openml)\n",
            "  Downloading liac-arff-2.5.0.tar.gz (13 kB)\n",
            "  Preparing metadata (setup.py) ... \u001b[?25l\u001b[?25hdone\n",
            "Collecting xmltodict (from openml)\n",
            "  Downloading xmltodict-0.13.0-py2.py3-none-any.whl (10.0 kB)\n",
            "Requirement already satisfied: requests in /usr/local/lib/python3.10/dist-packages (from openml) (2.31.0)\n",
            "Requirement already satisfied: scikit-learn>=0.18 in /usr/local/lib/python3.10/dist-packages (from openml) (1.2.2)\n",
            "Requirement already satisfied: python-dateutil in /usr/local/lib/python3.10/dist-packages (from openml) (2.8.2)\n",
            "Requirement already satisfied: pandas>=1.0.0 in /usr/local/lib/python3.10/dist-packages (from openml) (2.0.3)\n",
            "Requirement already satisfied: scipy>=0.13.3 in /usr/local/lib/python3.10/dist-packages (from openml) (1.11.4)\n",
            "Requirement already satisfied: numpy>=1.6.2 in /usr/local/lib/python3.10/dist-packages (from openml) (1.25.2)\n",
            "Collecting minio (from openml)\n",
            "  Downloading minio-7.2.5-py3-none-any.whl (93 kB)\n",
            "\u001b[2K     \u001b[90m━━━━━━━━━━━━━━━━━━━━━━━━━━━━━━━━━━━━━━━━\u001b[0m \u001b[32m93.2/93.2 kB\u001b[0m \u001b[31m7.7 MB/s\u001b[0m eta \u001b[36m0:00:00\u001b[0m\n",
            "\u001b[?25hRequirement already satisfied: pyarrow in /usr/local/lib/python3.10/dist-packages (from openml) (14.0.2)\n",
            "Requirement already satisfied: pytz>=2020.1 in /usr/local/lib/python3.10/dist-packages (from pandas>=1.0.0->openml) (2023.4)\n",
            "Requirement already satisfied: tzdata>=2022.1 in /usr/local/lib/python3.10/dist-packages (from pandas>=1.0.0->openml) (2024.1)\n",
            "Requirement already satisfied: six>=1.5 in /usr/local/lib/python3.10/dist-packages (from python-dateutil->openml) (1.16.0)\n",
            "Requirement already satisfied: joblib>=1.1.1 in /usr/local/lib/python3.10/dist-packages (from scikit-learn>=0.18->openml) (1.4.0)\n",
            "Requirement already satisfied: threadpoolctl>=2.0.0 in /usr/local/lib/python3.10/dist-packages (from scikit-learn>=0.18->openml) (3.4.0)\n",
            "Requirement already satisfied: certifi in /usr/local/lib/python3.10/dist-packages (from minio->openml) (2024.2.2)\n",
            "Requirement already satisfied: urllib3 in /usr/local/lib/python3.10/dist-packages (from minio->openml) (2.0.7)\n",
            "Requirement already satisfied: argon2-cffi in /usr/local/lib/python3.10/dist-packages (from minio->openml) (23.1.0)\n",
            "Collecting pycryptodome (from minio->openml)\n",
            "  Downloading pycryptodome-3.20.0-cp35-abi3-manylinux_2_17_x86_64.manylinux2014_x86_64.whl (2.1 MB)\n",
            "\u001b[2K     \u001b[90m━━━━━━━━━━━━━━━━━━━━━━━━━━━━━━━━━━━━━━━━\u001b[0m \u001b[32m2.1/2.1 MB\u001b[0m \u001b[31m14.0 MB/s\u001b[0m eta \u001b[36m0:00:00\u001b[0m\n",
            "\u001b[?25hRequirement already satisfied: typing-extensions in /usr/local/lib/python3.10/dist-packages (from minio->openml) (4.11.0)\n",
            "Requirement already satisfied: charset-normalizer<4,>=2 in /usr/local/lib/python3.10/dist-packages (from requests->openml) (3.3.2)\n",
            "Requirement already satisfied: idna<4,>=2.5 in /usr/local/lib/python3.10/dist-packages (from requests->openml) (3.7)\n",
            "Requirement already satisfied: argon2-cffi-bindings in /usr/local/lib/python3.10/dist-packages (from argon2-cffi->minio->openml) (21.2.0)\n",
            "Requirement already satisfied: cffi>=1.0.1 in /usr/local/lib/python3.10/dist-packages (from argon2-cffi-bindings->argon2-cffi->minio->openml) (1.16.0)\n",
            "Requirement already satisfied: pycparser in /usr/local/lib/python3.10/dist-packages (from cffi>=1.0.1->argon2-cffi-bindings->argon2-cffi->minio->openml) (2.22)\n",
            "Building wheels for collected packages: openml, liac-arff\n",
            "  Building wheel for openml (pyproject.toml) ... \u001b[?25l\u001b[?25hdone\n",
            "  Created wheel for openml: filename=openml-0.14.2-py3-none-any.whl size=158699 sha256=d74318ee1db7c4162e5a7ec32baa943261880b5fa97f1e87bbfd1f9547299f41\n",
            "  Stored in directory: /root/.cache/pip/wheels/2e/4e/af/5e721761d86375dbca82e63cc2470019e97815bc39f11451ea\n",
            "  Building wheel for liac-arff (setup.py) ... \u001b[?25l\u001b[?25hdone\n",
            "  Created wheel for liac-arff: filename=liac_arff-2.5.0-py3-none-any.whl size=11716 sha256=7fdf9559584c833d638787451b8916776d0dad38e0c974a8970c45a663f80e6d\n",
            "  Stored in directory: /root/.cache/pip/wheels/5d/2a/9c/3895d9617f8f49a0883ba686326d598e78a1c2f54fe3cae86d\n",
            "Successfully built openml liac-arff\n",
            "Installing collected packages: xmltodict, pycryptodome, liac-arff, minio, openml\n",
            "Successfully installed liac-arff-2.5.0 minio-7.2.5 openml-0.14.2 pycryptodome-3.20.0 xmltodict-0.13.0\n"
          ]
        }
      ]
    },
    {
      "cell_type": "code",
      "execution_count": null,
      "metadata": {
        "id": "5U7FfoNacWIK",
        "colab": {
          "base_uri": "https://localhost:8080/"
        },
        "outputId": "a48ee1fc-e332-4f07-af28-180a817de9e5"
      },
      "outputs": [
        {
          "output_type": "stream",
          "name": "stderr",
          "text": [
            "WARNING:openml:No permission to create OpenML directory at /root/.config/openml! This can result in OpenML-Python not working properly.\n"
          ]
        }
      ],
      "source": [
        "import numpy as np\n",
        "import pandas as pd\n",
        "import matplotlib.pyplot as plt\n",
        "from sklearn.preprocessing import PolynomialFeatures\n",
        "from sklearn.linear_model import LinearRegression\n",
        "from sklearn.metrics import mean_squared_error, r2_score\n",
        "from sklearn.model_selection import train_test_split\n",
        "from sklearn.model_selection import train_test_split, KFold, cross_val_score, cross_val_predict\n",
        "from sklearn.pipeline import make_pipeline\n",
        "from sklearn.preprocessing import StandardScaler\n",
        "import openml\n"
      ]
    },
    {
      "cell_type": "markdown",
      "source": [
        "## Importación del dataset"
      ],
      "metadata": {
        "id": "WINySGfZ3Hcl"
      }
    },
    {
      "cell_type": "code",
      "source": [
        "dataset = openml.datasets.get_dataset(560)"
      ],
      "metadata": {
        "id": "x64C0JWyWDmQ",
        "colab": {
          "base_uri": "https://localhost:8080/"
        },
        "outputId": "456a3e5e-44d7-4603-a0e4-055079cdb932"
      },
      "execution_count": null,
      "outputs": [
        {
          "output_type": "stream",
          "name": "stderr",
          "text": [
            "<ipython-input-3-343d085db803>:1: FutureWarning: Starting from Version 0.15 `download_data`, `download_qualities`, and `download_features_meta_data` will all be ``False`` instead of ``True`` by default to enable lazy loading. To disable this message until version 0.15 explicitly set `download_data`, `download_qualities`, and `download_features_meta_data` to a bool while calling `get_dataset`.\n",
            "  dataset = openml.datasets.get_dataset(560)\n"
          ]
        }
      ]
    },
    {
      "cell_type": "code",
      "source": [
        "# Obtener los datos como un DataFrame de Pandas\n",
        "df_body, df_target, categorical_indicator, attribute_names = dataset.get_data(\n",
        "    dataset_format='dataframe',\n",
        "    target=dataset.default_target_attribute\n",
        ")"
      ],
      "metadata": {
        "id": "FKxHyiaGe1CK"
      },
      "execution_count": null,
      "outputs": []
    },
    {
      "cell_type": "code",
      "source": [
        "df_body.head(10)"
      ],
      "metadata": {
        "colab": {
          "base_uri": "https://localhost:8080/",
          "height": 383
        },
        "id": "a5TcnXrluG3g",
        "outputId": "992c2ae0-4c20-411c-846f-675912e8c517"
      },
      "execution_count": null,
      "outputs": [
        {
          "output_type": "execute_result",
          "data": {
            "text/plain": [
              "   Density  Age  Weight  Height  Neck  Chest  Abdomen    Hip  Thigh  Knee  \\\n",
              "0   1.0708   23  154.25   67.75  36.2   93.1     85.2   94.5   59.0  37.3   \n",
              "1   1.0853   22  173.25   72.25  38.5   93.6     83.0   98.7   58.7  37.3   \n",
              "2   1.0414   22  154.00   66.25  34.0   95.8     87.9   99.2   59.6  38.9   \n",
              "3   1.0751   26  184.75   72.25  37.4  101.8     86.4  101.2   60.1  37.3   \n",
              "4   1.0340   24  184.25   71.25  34.4   97.3    100.0  101.9   63.2  42.2   \n",
              "5   1.0502   24  210.25   74.75  39.0  104.5     94.4  107.8   66.0  42.0   \n",
              "6   1.0549   26  181.00   69.75  36.4  105.1     90.7  100.3   58.4  38.3   \n",
              "7   1.0704   25  176.00   72.50  37.8   99.6     88.5   97.1   60.0  39.4   \n",
              "8   1.0900   25  191.00   74.00  38.1  100.9     82.5   99.9   62.9  38.3   \n",
              "9   1.0722   23  198.25   73.50  42.1   99.6     88.6  104.1   63.1  41.7   \n",
              "\n",
              "   Ankle  Biceps  Forearm  Wrist  \n",
              "0   21.9    32.0     27.4   17.1  \n",
              "1   23.4    30.5     28.9   18.2  \n",
              "2   24.0    28.8     25.2   16.6  \n",
              "3   22.8    32.4     29.4   18.2  \n",
              "4   24.0    32.2     27.7   17.7  \n",
              "5   25.6    35.7     30.6   18.8  \n",
              "6   22.9    31.9     27.8   17.7  \n",
              "7   23.2    30.5     29.0   18.8  \n",
              "8   23.8    35.9     31.1   18.2  \n",
              "9   25.0    35.6     30.0   19.2  "
            ],
            "text/html": [
              "\n",
              "  <div id=\"df-504c1e56-fcad-41ed-a174-23f221e3b793\" class=\"colab-df-container\">\n",
              "    <div>\n",
              "<style scoped>\n",
              "    .dataframe tbody tr th:only-of-type {\n",
              "        vertical-align: middle;\n",
              "    }\n",
              "\n",
              "    .dataframe tbody tr th {\n",
              "        vertical-align: top;\n",
              "    }\n",
              "\n",
              "    .dataframe thead th {\n",
              "        text-align: right;\n",
              "    }\n",
              "</style>\n",
              "<table border=\"1\" class=\"dataframe\">\n",
              "  <thead>\n",
              "    <tr style=\"text-align: right;\">\n",
              "      <th></th>\n",
              "      <th>Density</th>\n",
              "      <th>Age</th>\n",
              "      <th>Weight</th>\n",
              "      <th>Height</th>\n",
              "      <th>Neck</th>\n",
              "      <th>Chest</th>\n",
              "      <th>Abdomen</th>\n",
              "      <th>Hip</th>\n",
              "      <th>Thigh</th>\n",
              "      <th>Knee</th>\n",
              "      <th>Ankle</th>\n",
              "      <th>Biceps</th>\n",
              "      <th>Forearm</th>\n",
              "      <th>Wrist</th>\n",
              "    </tr>\n",
              "  </thead>\n",
              "  <tbody>\n",
              "    <tr>\n",
              "      <th>0</th>\n",
              "      <td>1.0708</td>\n",
              "      <td>23</td>\n",
              "      <td>154.25</td>\n",
              "      <td>67.75</td>\n",
              "      <td>36.2</td>\n",
              "      <td>93.1</td>\n",
              "      <td>85.2</td>\n",
              "      <td>94.5</td>\n",
              "      <td>59.0</td>\n",
              "      <td>37.3</td>\n",
              "      <td>21.9</td>\n",
              "      <td>32.0</td>\n",
              "      <td>27.4</td>\n",
              "      <td>17.1</td>\n",
              "    </tr>\n",
              "    <tr>\n",
              "      <th>1</th>\n",
              "      <td>1.0853</td>\n",
              "      <td>22</td>\n",
              "      <td>173.25</td>\n",
              "      <td>72.25</td>\n",
              "      <td>38.5</td>\n",
              "      <td>93.6</td>\n",
              "      <td>83.0</td>\n",
              "      <td>98.7</td>\n",
              "      <td>58.7</td>\n",
              "      <td>37.3</td>\n",
              "      <td>23.4</td>\n",
              "      <td>30.5</td>\n",
              "      <td>28.9</td>\n",
              "      <td>18.2</td>\n",
              "    </tr>\n",
              "    <tr>\n",
              "      <th>2</th>\n",
              "      <td>1.0414</td>\n",
              "      <td>22</td>\n",
              "      <td>154.00</td>\n",
              "      <td>66.25</td>\n",
              "      <td>34.0</td>\n",
              "      <td>95.8</td>\n",
              "      <td>87.9</td>\n",
              "      <td>99.2</td>\n",
              "      <td>59.6</td>\n",
              "      <td>38.9</td>\n",
              "      <td>24.0</td>\n",
              "      <td>28.8</td>\n",
              "      <td>25.2</td>\n",
              "      <td>16.6</td>\n",
              "    </tr>\n",
              "    <tr>\n",
              "      <th>3</th>\n",
              "      <td>1.0751</td>\n",
              "      <td>26</td>\n",
              "      <td>184.75</td>\n",
              "      <td>72.25</td>\n",
              "      <td>37.4</td>\n",
              "      <td>101.8</td>\n",
              "      <td>86.4</td>\n",
              "      <td>101.2</td>\n",
              "      <td>60.1</td>\n",
              "      <td>37.3</td>\n",
              "      <td>22.8</td>\n",
              "      <td>32.4</td>\n",
              "      <td>29.4</td>\n",
              "      <td>18.2</td>\n",
              "    </tr>\n",
              "    <tr>\n",
              "      <th>4</th>\n",
              "      <td>1.0340</td>\n",
              "      <td>24</td>\n",
              "      <td>184.25</td>\n",
              "      <td>71.25</td>\n",
              "      <td>34.4</td>\n",
              "      <td>97.3</td>\n",
              "      <td>100.0</td>\n",
              "      <td>101.9</td>\n",
              "      <td>63.2</td>\n",
              "      <td>42.2</td>\n",
              "      <td>24.0</td>\n",
              "      <td>32.2</td>\n",
              "      <td>27.7</td>\n",
              "      <td>17.7</td>\n",
              "    </tr>\n",
              "    <tr>\n",
              "      <th>5</th>\n",
              "      <td>1.0502</td>\n",
              "      <td>24</td>\n",
              "      <td>210.25</td>\n",
              "      <td>74.75</td>\n",
              "      <td>39.0</td>\n",
              "      <td>104.5</td>\n",
              "      <td>94.4</td>\n",
              "      <td>107.8</td>\n",
              "      <td>66.0</td>\n",
              "      <td>42.0</td>\n",
              "      <td>25.6</td>\n",
              "      <td>35.7</td>\n",
              "      <td>30.6</td>\n",
              "      <td>18.8</td>\n",
              "    </tr>\n",
              "    <tr>\n",
              "      <th>6</th>\n",
              "      <td>1.0549</td>\n",
              "      <td>26</td>\n",
              "      <td>181.00</td>\n",
              "      <td>69.75</td>\n",
              "      <td>36.4</td>\n",
              "      <td>105.1</td>\n",
              "      <td>90.7</td>\n",
              "      <td>100.3</td>\n",
              "      <td>58.4</td>\n",
              "      <td>38.3</td>\n",
              "      <td>22.9</td>\n",
              "      <td>31.9</td>\n",
              "      <td>27.8</td>\n",
              "      <td>17.7</td>\n",
              "    </tr>\n",
              "    <tr>\n",
              "      <th>7</th>\n",
              "      <td>1.0704</td>\n",
              "      <td>25</td>\n",
              "      <td>176.00</td>\n",
              "      <td>72.50</td>\n",
              "      <td>37.8</td>\n",
              "      <td>99.6</td>\n",
              "      <td>88.5</td>\n",
              "      <td>97.1</td>\n",
              "      <td>60.0</td>\n",
              "      <td>39.4</td>\n",
              "      <td>23.2</td>\n",
              "      <td>30.5</td>\n",
              "      <td>29.0</td>\n",
              "      <td>18.8</td>\n",
              "    </tr>\n",
              "    <tr>\n",
              "      <th>8</th>\n",
              "      <td>1.0900</td>\n",
              "      <td>25</td>\n",
              "      <td>191.00</td>\n",
              "      <td>74.00</td>\n",
              "      <td>38.1</td>\n",
              "      <td>100.9</td>\n",
              "      <td>82.5</td>\n",
              "      <td>99.9</td>\n",
              "      <td>62.9</td>\n",
              "      <td>38.3</td>\n",
              "      <td>23.8</td>\n",
              "      <td>35.9</td>\n",
              "      <td>31.1</td>\n",
              "      <td>18.2</td>\n",
              "    </tr>\n",
              "    <tr>\n",
              "      <th>9</th>\n",
              "      <td>1.0722</td>\n",
              "      <td>23</td>\n",
              "      <td>198.25</td>\n",
              "      <td>73.50</td>\n",
              "      <td>42.1</td>\n",
              "      <td>99.6</td>\n",
              "      <td>88.6</td>\n",
              "      <td>104.1</td>\n",
              "      <td>63.1</td>\n",
              "      <td>41.7</td>\n",
              "      <td>25.0</td>\n",
              "      <td>35.6</td>\n",
              "      <td>30.0</td>\n",
              "      <td>19.2</td>\n",
              "    </tr>\n",
              "  </tbody>\n",
              "</table>\n",
              "</div>\n",
              "    <div class=\"colab-df-buttons\">\n",
              "\n",
              "  <div class=\"colab-df-container\">\n",
              "    <button class=\"colab-df-convert\" onclick=\"convertToInteractive('df-504c1e56-fcad-41ed-a174-23f221e3b793')\"\n",
              "            title=\"Convert this dataframe to an interactive table.\"\n",
              "            style=\"display:none;\">\n",
              "\n",
              "  <svg xmlns=\"http://www.w3.org/2000/svg\" height=\"24px\" viewBox=\"0 -960 960 960\">\n",
              "    <path d=\"M120-120v-720h720v720H120Zm60-500h600v-160H180v160Zm220 220h160v-160H400v160Zm0 220h160v-160H400v160ZM180-400h160v-160H180v160Zm440 0h160v-160H620v160ZM180-180h160v-160H180v160Zm440 0h160v-160H620v160Z\"/>\n",
              "  </svg>\n",
              "    </button>\n",
              "\n",
              "  <style>\n",
              "    .colab-df-container {\n",
              "      display:flex;\n",
              "      gap: 12px;\n",
              "    }\n",
              "\n",
              "    .colab-df-convert {\n",
              "      background-color: #E8F0FE;\n",
              "      border: none;\n",
              "      border-radius: 50%;\n",
              "      cursor: pointer;\n",
              "      display: none;\n",
              "      fill: #1967D2;\n",
              "      height: 32px;\n",
              "      padding: 0 0 0 0;\n",
              "      width: 32px;\n",
              "    }\n",
              "\n",
              "    .colab-df-convert:hover {\n",
              "      background-color: #E2EBFA;\n",
              "      box-shadow: 0px 1px 2px rgba(60, 64, 67, 0.3), 0px 1px 3px 1px rgba(60, 64, 67, 0.15);\n",
              "      fill: #174EA6;\n",
              "    }\n",
              "\n",
              "    .colab-df-buttons div {\n",
              "      margin-bottom: 4px;\n",
              "    }\n",
              "\n",
              "    [theme=dark] .colab-df-convert {\n",
              "      background-color: #3B4455;\n",
              "      fill: #D2E3FC;\n",
              "    }\n",
              "\n",
              "    [theme=dark] .colab-df-convert:hover {\n",
              "      background-color: #434B5C;\n",
              "      box-shadow: 0px 1px 3px 1px rgba(0, 0, 0, 0.15);\n",
              "      filter: drop-shadow(0px 1px 2px rgba(0, 0, 0, 0.3));\n",
              "      fill: #FFFFFF;\n",
              "    }\n",
              "  </style>\n",
              "\n",
              "    <script>\n",
              "      const buttonEl =\n",
              "        document.querySelector('#df-504c1e56-fcad-41ed-a174-23f221e3b793 button.colab-df-convert');\n",
              "      buttonEl.style.display =\n",
              "        google.colab.kernel.accessAllowed ? 'block' : 'none';\n",
              "\n",
              "      async function convertToInteractive(key) {\n",
              "        const element = document.querySelector('#df-504c1e56-fcad-41ed-a174-23f221e3b793');\n",
              "        const dataTable =\n",
              "          await google.colab.kernel.invokeFunction('convertToInteractive',\n",
              "                                                    [key], {});\n",
              "        if (!dataTable) return;\n",
              "\n",
              "        const docLinkHtml = 'Like what you see? Visit the ' +\n",
              "          '<a target=\"_blank\" href=https://colab.research.google.com/notebooks/data_table.ipynb>data table notebook</a>'\n",
              "          + ' to learn more about interactive tables.';\n",
              "        element.innerHTML = '';\n",
              "        dataTable['output_type'] = 'display_data';\n",
              "        await google.colab.output.renderOutput(dataTable, element);\n",
              "        const docLink = document.createElement('div');\n",
              "        docLink.innerHTML = docLinkHtml;\n",
              "        element.appendChild(docLink);\n",
              "      }\n",
              "    </script>\n",
              "  </div>\n",
              "\n",
              "\n",
              "<div id=\"df-45011c91-8772-42ad-a228-7277c868d866\">\n",
              "  <button class=\"colab-df-quickchart\" onclick=\"quickchart('df-45011c91-8772-42ad-a228-7277c868d866')\"\n",
              "            title=\"Suggest charts\"\n",
              "            style=\"display:none;\">\n",
              "\n",
              "<svg xmlns=\"http://www.w3.org/2000/svg\" height=\"24px\"viewBox=\"0 0 24 24\"\n",
              "     width=\"24px\">\n",
              "    <g>\n",
              "        <path d=\"M19 3H5c-1.1 0-2 .9-2 2v14c0 1.1.9 2 2 2h14c1.1 0 2-.9 2-2V5c0-1.1-.9-2-2-2zM9 17H7v-7h2v7zm4 0h-2V7h2v10zm4 0h-2v-4h2v4z\"/>\n",
              "    </g>\n",
              "</svg>\n",
              "  </button>\n",
              "\n",
              "<style>\n",
              "  .colab-df-quickchart {\n",
              "      --bg-color: #E8F0FE;\n",
              "      --fill-color: #1967D2;\n",
              "      --hover-bg-color: #E2EBFA;\n",
              "      --hover-fill-color: #174EA6;\n",
              "      --disabled-fill-color: #AAA;\n",
              "      --disabled-bg-color: #DDD;\n",
              "  }\n",
              "\n",
              "  [theme=dark] .colab-df-quickchart {\n",
              "      --bg-color: #3B4455;\n",
              "      --fill-color: #D2E3FC;\n",
              "      --hover-bg-color: #434B5C;\n",
              "      --hover-fill-color: #FFFFFF;\n",
              "      --disabled-bg-color: #3B4455;\n",
              "      --disabled-fill-color: #666;\n",
              "  }\n",
              "\n",
              "  .colab-df-quickchart {\n",
              "    background-color: var(--bg-color);\n",
              "    border: none;\n",
              "    border-radius: 50%;\n",
              "    cursor: pointer;\n",
              "    display: none;\n",
              "    fill: var(--fill-color);\n",
              "    height: 32px;\n",
              "    padding: 0;\n",
              "    width: 32px;\n",
              "  }\n",
              "\n",
              "  .colab-df-quickchart:hover {\n",
              "    background-color: var(--hover-bg-color);\n",
              "    box-shadow: 0 1px 2px rgba(60, 64, 67, 0.3), 0 1px 3px 1px rgba(60, 64, 67, 0.15);\n",
              "    fill: var(--button-hover-fill-color);\n",
              "  }\n",
              "\n",
              "  .colab-df-quickchart-complete:disabled,\n",
              "  .colab-df-quickchart-complete:disabled:hover {\n",
              "    background-color: var(--disabled-bg-color);\n",
              "    fill: var(--disabled-fill-color);\n",
              "    box-shadow: none;\n",
              "  }\n",
              "\n",
              "  .colab-df-spinner {\n",
              "    border: 2px solid var(--fill-color);\n",
              "    border-color: transparent;\n",
              "    border-bottom-color: var(--fill-color);\n",
              "    animation:\n",
              "      spin 1s steps(1) infinite;\n",
              "  }\n",
              "\n",
              "  @keyframes spin {\n",
              "    0% {\n",
              "      border-color: transparent;\n",
              "      border-bottom-color: var(--fill-color);\n",
              "      border-left-color: var(--fill-color);\n",
              "    }\n",
              "    20% {\n",
              "      border-color: transparent;\n",
              "      border-left-color: var(--fill-color);\n",
              "      border-top-color: var(--fill-color);\n",
              "    }\n",
              "    30% {\n",
              "      border-color: transparent;\n",
              "      border-left-color: var(--fill-color);\n",
              "      border-top-color: var(--fill-color);\n",
              "      border-right-color: var(--fill-color);\n",
              "    }\n",
              "    40% {\n",
              "      border-color: transparent;\n",
              "      border-right-color: var(--fill-color);\n",
              "      border-top-color: var(--fill-color);\n",
              "    }\n",
              "    60% {\n",
              "      border-color: transparent;\n",
              "      border-right-color: var(--fill-color);\n",
              "    }\n",
              "    80% {\n",
              "      border-color: transparent;\n",
              "      border-right-color: var(--fill-color);\n",
              "      border-bottom-color: var(--fill-color);\n",
              "    }\n",
              "    90% {\n",
              "      border-color: transparent;\n",
              "      border-bottom-color: var(--fill-color);\n",
              "    }\n",
              "  }\n",
              "</style>\n",
              "\n",
              "  <script>\n",
              "    async function quickchart(key) {\n",
              "      const quickchartButtonEl =\n",
              "        document.querySelector('#' + key + ' button');\n",
              "      quickchartButtonEl.disabled = true;  // To prevent multiple clicks.\n",
              "      quickchartButtonEl.classList.add('colab-df-spinner');\n",
              "      try {\n",
              "        const charts = await google.colab.kernel.invokeFunction(\n",
              "            'suggestCharts', [key], {});\n",
              "      } catch (error) {\n",
              "        console.error('Error during call to suggestCharts:', error);\n",
              "      }\n",
              "      quickchartButtonEl.classList.remove('colab-df-spinner');\n",
              "      quickchartButtonEl.classList.add('colab-df-quickchart-complete');\n",
              "    }\n",
              "    (() => {\n",
              "      let quickchartButtonEl =\n",
              "        document.querySelector('#df-45011c91-8772-42ad-a228-7277c868d866 button');\n",
              "      quickchartButtonEl.style.display =\n",
              "        google.colab.kernel.accessAllowed ? 'block' : 'none';\n",
              "    })();\n",
              "  </script>\n",
              "</div>\n",
              "    </div>\n",
              "  </div>\n"
            ],
            "application/vnd.google.colaboratory.intrinsic+json": {
              "type": "dataframe",
              "variable_name": "df_body",
              "summary": "{\n  \"name\": \"df_body\",\n  \"rows\": 252,\n  \"fields\": [\n    {\n      \"column\": \"Density\",\n      \"properties\": {\n        \"dtype\": \"number\",\n        \"std\": 0.019031434171520773,\n        \"min\": 0.995,\n        \"max\": 1.1089,\n        \"num_unique_values\": 218,\n        \"samples\": [\n          1.0547,\n          1.0236,\n          1.0873\n        ],\n        \"semantic_type\": \"\",\n        \"description\": \"\"\n      }\n    },\n    {\n      \"column\": \"Age\",\n      \"properties\": {\n        \"dtype\": \"uint8\",\n        \"num_unique_values\": 51,\n        \"samples\": [\n          52,\n          72,\n          60\n        ],\n        \"semantic_type\": \"\",\n        \"description\": \"\"\n      }\n    },\n    {\n      \"column\": \"Weight\",\n      \"properties\": {\n        \"dtype\": \"number\",\n        \"std\": 29.38915988536906,\n        \"min\": 118.5,\n        \"max\": 363.15,\n        \"num_unique_values\": 197,\n        \"samples\": [\n          226.75,\n          192.25,\n          195.75\n        ],\n        \"semantic_type\": \"\",\n        \"description\": \"\"\n      }\n    },\n    {\n      \"column\": \"Height\",\n      \"properties\": {\n        \"dtype\": \"number\",\n        \"std\": 3.6628557876803174,\n        \"min\": 29.5,\n        \"max\": 77.75,\n        \"num_unique_values\": 48,\n        \"samples\": [\n          68.5,\n          77.75,\n          73.25\n        ],\n        \"semantic_type\": \"\",\n        \"description\": \"\"\n      }\n    },\n    {\n      \"column\": \"Neck\",\n      \"properties\": {\n        \"dtype\": \"number\",\n        \"std\": 2.430913234019508,\n        \"min\": 31.1,\n        \"max\": 51.2,\n        \"num_unique_values\": 90,\n        \"samples\": [\n          39.9,\n          38.8,\n          35.9\n        ],\n        \"semantic_type\": \"\",\n        \"description\": \"\"\n      }\n    },\n    {\n      \"column\": \"Chest\",\n      \"properties\": {\n        \"dtype\": \"number\",\n        \"std\": 8.43047553192002,\n        \"min\": 79.3,\n        \"max\": 136.2,\n        \"num_unique_values\": 174,\n        \"samples\": [\n          92.8,\n          92.0,\n          103.9\n        ],\n        \"semantic_type\": \"\",\n        \"description\": \"\"\n      }\n    },\n    {\n      \"column\": \"Abdomen\",\n      \"properties\": {\n        \"dtype\": \"number\",\n        \"std\": 10.783076801381705,\n        \"min\": 69.4,\n        \"max\": 148.1,\n        \"num_unique_values\": 185,\n        \"samples\": [\n          95.9,\n          79.5,\n          103.1\n        ],\n        \"semantic_type\": \"\",\n        \"description\": \"\"\n      }\n    },\n    {\n      \"column\": \"Hip\",\n      \"properties\": {\n        \"dtype\": \"number\",\n        \"std\": 7.164057666842289,\n        \"min\": 85.0,\n        \"max\": 147.7,\n        \"num_unique_values\": 152,\n        \"samples\": [\n          100.2,\n          87.6,\n          93.2\n        ],\n        \"semantic_type\": \"\",\n        \"description\": \"\"\n      }\n    },\n    {\n      \"column\": \"Thigh\",\n      \"properties\": {\n        \"dtype\": \"number\",\n        \"std\": 5.249952028401044,\n        \"min\": 47.2,\n        \"max\": 87.3,\n        \"num_unique_values\": 139,\n        \"samples\": [\n          50.7,\n          54.8,\n          87.3\n        ],\n        \"semantic_type\": \"\",\n        \"description\": \"\"\n      }\n    },\n    {\n      \"column\": \"Knee\",\n      \"properties\": {\n        \"dtype\": \"number\",\n        \"std\": 2.411804587018756,\n        \"min\": 33.0,\n        \"max\": 49.1,\n        \"num_unique_values\": 90,\n        \"samples\": [\n          37.6,\n          34.5,\n          39.5\n        ],\n        \"semantic_type\": \"\",\n        \"description\": \"\"\n      }\n    },\n    {\n      \"column\": \"Ankle\",\n      \"properties\": {\n        \"dtype\": \"number\",\n        \"std\": 1.6948933981786372,\n        \"min\": 19.1,\n        \"max\": 33.9,\n        \"num_unique_values\": 61,\n        \"samples\": [\n          21.9,\n          22.9,\n          24.8\n        ],\n        \"semantic_type\": \"\",\n        \"description\": \"\"\n      }\n    },\n    {\n      \"column\": \"Biceps\",\n      \"properties\": {\n        \"dtype\": \"number\",\n        \"std\": 3.0212737512508645,\n        \"min\": 24.8,\n        \"max\": 45.0,\n        \"num_unique_values\": 104,\n        \"samples\": [\n          45.0,\n          30.6,\n          32.9\n        ],\n        \"semantic_type\": \"\",\n        \"description\": \"\"\n      }\n    },\n    {\n      \"column\": \"Forearm\",\n      \"properties\": {\n        \"dtype\": \"number\",\n        \"std\": 2.0206911650269284,\n        \"min\": 21.0,\n        \"max\": 34.9,\n        \"num_unique_values\": 77,\n        \"samples\": [\n          27.7,\n          25.5,\n          30.2\n        ],\n        \"semantic_type\": \"\",\n        \"description\": \"\"\n      }\n    },\n    {\n      \"column\": \"Wrist\",\n      \"properties\": {\n        \"dtype\": \"number\",\n        \"std\": 0.9335849289587035,\n        \"min\": 15.8,\n        \"max\": 21.4,\n        \"num_unique_values\": 44,\n        \"samples\": [\n          17.5,\n          17.4,\n          16.1\n        ],\n        \"semantic_type\": \"\",\n        \"description\": \"\"\n      }\n    }\n  ]\n}"
            }
          },
          "metadata": {},
          "execution_count": 5
        }
      ]
    },
    {
      "cell_type": "code",
      "source": [
        "x = df_body.values\n",
        "y = df_target.values\n",
        "X = x"
      ],
      "metadata": {
        "id": "5vJ8BM9Se5DE"
      },
      "execution_count": null,
      "outputs": []
    },
    {
      "cell_type": "code",
      "source": [
        "y = y.reshape(-1, 1)"
      ],
      "metadata": {
        "id": "-hcT03-6c1iT"
      },
      "execution_count": null,
      "outputs": []
    },
    {
      "cell_type": "code",
      "source": [
        "x.shape, y.shape"
      ],
      "metadata": {
        "colab": {
          "base_uri": "https://localhost:8080/"
        },
        "id": "UcXhTY5Tb5Di",
        "outputId": "79caee9d-8cd1-4f96-b5b2-66bb4cc45a58"
      },
      "execution_count": null,
      "outputs": [
        {
          "output_type": "execute_result",
          "data": {
            "text/plain": [
              "((252, 14), (252, 1))"
            ]
          },
          "metadata": {},
          "execution_count": 8
        }
      ]
    },
    {
      "cell_type": "markdown",
      "source": [
        "## (División de los datos en entrenamiento y prueba)\n"
      ],
      "metadata": {
        "id": "DPyDBwxG3UJk"
      }
    },
    {
      "cell_type": "code",
      "source": [
        "#X_train.shape, X_test.shape, y_train.shape, y_test.shape"
      ],
      "metadata": {
        "id": "fK36vekwauGx"
      },
      "execution_count": null,
      "outputs": []
    },
    {
      "cell_type": "markdown",
      "source": [
        "## Paso 1: Implementamos el modelo sin validación cruzada"
      ],
      "metadata": {
        "id": "CV_Y_SAHqLPy"
      }
    },
    {
      "cell_type": "code",
      "source": [
        "X_train, X_test, y_train, y_test = train_test_split(x, y, test_size=0.2, random_state=42)\n",
        "\n",
        "\n",
        "# Ajustamos el modelo de regresión polinomial\n",
        "# Definimos el grado del polinomio\n",
        "# Transformamos las características existentes en características de mayor grado.\n",
        "\n",
        "grado = 2\n",
        "\n",
        "polynomial_features = PolynomialFeatures(degree=grado, include_bias=False)\n",
        "X_train_poly = polynomial_features.fit_transform(X_train)\n",
        "X_test_poly = polynomial_features.transform(X_test)\n",
        "\n",
        "# Entrenamos el modelo de regresión lineal con características polinómicas\n",
        "model = LinearRegression()\n",
        "model.fit(X_train_poly, y_train)\n",
        "\n",
        "# Hacemos predicciones usando el modelo ajustado\n",
        "y_pred = model.predict(X_test_poly)\n",
        "\n",
        "# Mostramos el error cuadrático medio\n",
        "mse = mean_squared_error(y_test, y_pred)\n",
        "r2 = r2_score(y_test, y_pred)\n",
        "print(f'Error cuadrático medio (MSE) sin KFold: {mse:.2f}')\n",
        "print(f'R²: {r2:.3f}')"
      ],
      "metadata": {
        "colab": {
          "base_uri": "https://localhost:8080/"
        },
        "id": "qBtJpWQHgI8g",
        "outputId": "27f801bd-bce4-4643-f527-1a18653d2427"
      },
      "execution_count": null,
      "outputs": [
        {
          "output_type": "stream",
          "name": "stdout",
          "text": [
            "Error cuadrático medio (MSE) sin KFold: 2.02\n",
            "R²: 0.956\n"
          ]
        }
      ]
    },
    {
      "cell_type": "markdown",
      "source": [
        "## Graficamos los resultados\n"
      ],
      "metadata": {
        "id": "OHaNKJjfh-d9"
      }
    },
    {
      "cell_type": "code",
      "source": [
        "plt.figure(figsize=(8, 6))\n",
        "plt.scatter(y_test, y_pred, color='blue', alpha=0.6, label='Valores reales vs Predicciones')\n",
        "plt.plot([min(y_train), max(y_train)], [min(y_train), max(y_train)], color='red', linestyle='--')\n",
        "plt.xlabel('Valores reales de bodyfat')\n",
        "plt.ylabel('Predicciones de bodyfat')\n",
        "plt.title(f'Regresión polinomial de grado {grado} (MSE: {mse:.2f})')\n",
        "plt.legend()\n",
        "plt.show()"
      ],
      "metadata": {
        "colab": {
          "base_uri": "https://localhost:8080/",
          "height": 519
        },
        "id": "BPTbjmxTh2a3",
        "outputId": "fcd08e25-73ae-4860-b069-384e5bd0ee0e"
      },
      "execution_count": null,
      "outputs": [
        {
          "output_type": "display_data",
          "data": {
            "text/plain": [
              "<Figure size 800x600 with 1 Axes>"
            ],
            "image/png": "[encoded data removed]"
          },
          "metadata": {}
        }
      ]
    },
    {
      "cell_type": "markdown",
      "source": [
        "## Paso 2: Implementamos la validación cruzada con KFold\n",
        "\n"
      ],
      "metadata": {
        "id": "bPrIKzEqLk29"
      }
    },
    {
      "cell_type": "code",
      "source": [
        "X_train_k, X_test_k, y_train_k, y_test_k = train_test_split(x, y, test_size=0.2, random_state=42)\n",
        "\n",
        "# Realiza la validación cruzada\n",
        "num_folds = 5\n",
        "\n",
        "kf = KFold(n_splits=num_folds)\n",
        "\n",
        "fold_errors = []\n",
        "\n",
        "# Calcula el error de cada fold\n",
        "for train_index, test_index in kf.split(X):\n",
        "    X_train_k, X_test_k = X[train_index], X[test_index]\n",
        "    y_train_k, y_test_k = y[train_index], y[test_index]\n",
        "\n",
        "    grado = 2\n",
        "\n",
        "    polynomial_features = PolynomialFeatures(degree=grado, include_bias=False)\n",
        "    X_train_poly = polynomial_features.fit_transform(X_train_k)\n",
        "    X_test_poly = polynomial_features.transform(X_test_k)\n",
        "\n",
        "\n",
        "    model.fit(X_train_poly, y_train_k)\n",
        "\n",
        "    y_pred_k = model.predict(X_test_poly)\n",
        "\n",
        "    fold_error = mean_squared_error(y_test_k, y_pred_k)\n",
        "    fold_errors.append(fold_error)\n",
        "\n",
        "# Calcula el error medio de la validación cruzada\n",
        "mean_cv_error = np.mean(fold_errors)\n",
        "\n",
        "print(\"Errores de los Folds:\", fold_errors)\n",
        "print(\"Error medio de la validación cruzada:\", mean_cv_error)\n",
        "\n",
        "\n",
        "# Calcula el R^2 promedio de todos los pliegues de la validación cruzada\n",
        "r2_scores = cross_val_score(model, X, y, scoring='r2', cv=kf)\n",
        "print(\"R2 de los Folds: \", r2_scores)\n",
        "\n",
        "# Calcula el R^2 promedio\n",
        "mean_r2_score = np.mean(r2_scores)\n",
        "\n",
        "print(\"R^2 promedio:\", mean_r2_score)\n"
      ],
      "metadata": {
        "colab": {
          "base_uri": "https://localhost:8080/"
        },
        "id": "KvitAUotJJlf",
        "outputId": "4e35fbbb-d0a3-49fd-c57d-a6a5bd9028bd"
      },
      "execution_count": null,
      "outputs": [
        {
          "output_type": "stream",
          "name": "stdout",
          "text": [
            "Errores de los Folds: [9.359951026980417, 5.526177737750123, 2.4561244353972724, 2.1370703995959377, 2.4887131950305967]\n",
            "Error medio de la validación cruzada: 4.393607358950869\n",
            "R2 de los Folds:  [0.98040759 0.89907233 0.99296567 0.99043522 0.99205234]\n",
            "R^2 promedio: 0.9709866303468624\n"
          ]
        }
      ]
    },
    {
      "cell_type": "markdown",
      "source": [
        "## Graficamos los resultados\n"
      ],
      "metadata": {
        "id": "CE3Si2mlqamG"
      }
    },
    {
      "cell_type": "code",
      "source": [
        "plt.figure(figsize=(8, 6))\n",
        "plt.scatter(y_test_k, y_pred_k, color='blue', alpha=0.6, label='Valores reales vs Predicciones')\n",
        "plt.plot([min(y_train_k), max(y_train_k)], [min(y_train_k), max(y_train_k)], color='red', linestyle='--')\n",
        "plt.xlabel('Valores reales de bodyfat')\n",
        "plt.ylabel('Predicciones de bodyfat')\n",
        "plt.title(f'Regresión polinomial de grado {grado} (MSE: {mean_cv_error:.2f})')\n",
        "plt.legend()\n",
        "plt.show()"
      ],
      "metadata": {
        "colab": {
          "base_uri": "https://localhost:8080/",
          "height": 565
        },
        "id": "xVX8-4ehn8eJ",
        "outputId": "060544ed-5622-4c10-83b3-c96f98f13c71"
      },
      "execution_count": null,
      "outputs": [
        {
          "output_type": "display_data",
          "data": {
            "text/plain": [
              "<Figure size 800x600 with 1 Axes>"
            ],
            "image/png": "[encoded data removed]"
          },
          "metadata": {}
        }
      ]
    }
  ]
}